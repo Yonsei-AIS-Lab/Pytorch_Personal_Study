{
 "cells": [
  {
   "cell_type": "code",
   "execution_count": null,
   "metadata": {},
   "outputs": [],
   "source": [
    "import torch\n",
    "import torch.nn as nn\n",
    "import torch.nn.functional as F\n",
    "from scipy.stats import norm\n",
    "import scipy\n",
    "import math"
   ]
  },
  {
   "cell_type": "markdown",
   "metadata": {},
   "source": [
    "> ### Distillation Loss"
   ]
  },
  {
   "cell_type": "code",
   "execution_count": null,
   "metadata": {},
   "outputs": [],
   "source": [
    "def distillation_loss(source, target, margin):\n",
    "    loss = ((source - margin)**2 * ((source > margin) & (target <= margin)).float()\n",
    "            + (source - target) ** 2 * ((source > target) & (target > margin) & (target <= 0)).float() + \n",
    "            (source - target) ** 2 * (target > 0).float())\n",
    "    # loss function을 어떻게 이해하면 될까...\n",
    "    return torch.abs(loss).sum()"
   ]
  },
  {
   "cell_type": "markdown",
   "metadata": {},
   "source": [
    "> ### Teacher / Student 간 Distill을 위한 Connecter"
   ]
  },
  {
   "cell_type": "code",
   "execution_count": null,
   "metadata": {},
   "outputs": [],
   "source": [
    "def build_feature_connector(t_channel, s_channel):\n",
    "    # Teacher와 Student 간의 Feature Distillation을 위한 connector 함수\n",
    "    C = [nn.Conv2d(s_channel, t_channel, kernel_size=1, stride=1, padding=0, bias=False),\n",
    "         nn.BatchNorm2d(t_channel)\n",
    "         ]\n",
    "\n",
    "    for m in C:\n",
    "        if isinstance(m, nn.Conv2d):\n",
    "            n = m.kernel_size[0] * m.kernel_size[1] * m.out_channels\n",
    "            m.weight.data.normal_(0, math.sqrt(2. / n))\n",
    "            # He가중치를 쓰는 상황이므로 아래와 같이도 쓸 수 있음\n",
    "            # nn.init.kaiming_normal_(m.weight, mode='fan_out', nonlinearity='relu')\n",
    "        elif isinstance(m, nn.BatchNorm2d):\n",
    "            m.weight.data.fill_(1)\n",
    "            m.bias.data.zero_()\n",
    "    return nn.Sequential(*C)"
   ]
  },
  {
   "cell_type": "markdown",
   "metadata": {},
   "source": []
  },
  {
   "cell_type": "code",
   "execution_count": null,
   "metadata": {},
   "outputs": [],
   "source": [
    "def get_margin_from_BN(bn):\n",
    "    margin = []\n",
    "    std = bn.weight.data\n",
    "    mean = bn.bias.data\n",
    "    for (s, m) in zip(std, mean):\n",
    "        s = abs(s.item())\n",
    "        m = m.item()\n",
    "        if norm.cdf(-m / s) > 0.001:\n",
    "            margin.append(-s * math.exp(-(m/s) ** 2 / 2) / math.sqrt(2 * math.pi) / norm.cdf(-m / s) + m)\n",
    "        else:\n",
    "            margin.append(-3 * s)\n",
    "    \n",
    "    return torch.FloatTensor(margin).to(std.device)"
   ]
  },
  {
   "cell_type": "code",
   "execution_count": null,
   "metadata": {},
   "outputs": [],
   "source": [
    "class Distiller(nn.Module):\n",
    "    def __init__(self, t_net, s_net):\n",
    "        super(Distiller, self).__init__()\n",
    "        \n",
    "        t_channels = t_net.get_channel_num()\n",
    "        s_channels = s_net.get_channel_num()\n",
    "        \n",
    "        self.Connectors = nn.ModuleList([build_feature_connector(t, s) for t, s in zip(t_channels, s_channels)])\n",
    "        \n",
    "        teacher_bns = t_net.get_bn_before_relu()\n",
    "        margins = [get_margin_from_BN(bn) for bn in teacher_bns]\n",
    "        for i, margin in enumerate(margins):\n",
    "            self.register_buffer('margin%d' % (i + 1), margin.unsqueeze(1).unsqueeze(2).unsqueeze(0).detach())\n",
    "            \n",
    "        self.t_net = t_net\n",
    "        self.s_net = s_net\n",
    "    \n",
    "    def forward(self, x):\n",
    "        t_feats, t_out = self.t_net.extract_feature(x)\n",
    "        s_feats, s_out = self.s_net.extract_feature(x)\n",
    "        feat_num = len(t_feats)\n",
    "        \n",
    "        loss_distill = 0\n",
    "        for i in range(feat_num):\n",
    "            s_feats[i] = self.Connectors[i](s_feats[i])"
   ]
  }
 ],
 "metadata": {
  "kernelspec": {
   "display_name": "pytorch",
   "language": "python",
   "name": "python3"
  },
  "language_info": {
   "name": "python",
   "version": "3.7.16"
  }
 },
 "nbformat": 4,
 "nbformat_minor": 2
}
